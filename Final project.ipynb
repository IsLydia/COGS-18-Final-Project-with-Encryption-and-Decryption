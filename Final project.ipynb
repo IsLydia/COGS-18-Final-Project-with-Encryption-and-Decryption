{
 "cells": [
  {
   "cell_type": "markdown",
   "id": "b9c7a52d",
   "metadata": {},
   "source": [
    "## Final Project: Encryption & Decryption\n",
    "\n",
    "In my final project, I would like to do some different methods of encryption and decryption, such as Caesar shifts, Vigenere cipher.\n",
    "\n",
    "Furthermore, I would also like to introduce some mathematical methods of securely exchanging cryptographic keys between private keys and public keys, such as Diffie-Hellman key exchange.\n",
    "\n",
    "In order to do the encryption and decryption, it is important to change strings to SAGE integer and change SAGE integer to strings. "
   ]
  },
  {
   "cell_type": "markdown",
   "id": "a1f0222b",
   "metadata": {},
   "source": [
    "I would like to divide this Encryption & Decryption project in different parts, which each part is about a new cipher method.\n",
    "\n",
    "- Part 1: Caesar Cipher\n",
    "- Part 2: Vigenere Cipher\n",
    "- Part 3: Diffie-Hellman key exchange & cipher\n",
    "- Part 4: An example of recursive function"
   ]
  },
  {
   "cell_type": "markdown",
   "id": "da1e0fb3",
   "metadata": {},
   "source": [
    "The first thing I would like to introduce is changing strings to SAGE integer and change SAGE integer to strings. I would like to put the function **str2num(s)**, function **num2str(m)**, and function **remove_punctuation(s)** in the file of `String2number.py`and important it in my project."
   ]
  },
  {
   "cell_type": "code",
   "execution_count": 54,
   "id": "212f747a",
   "metadata": {},
   "outputs": [],
   "source": [
    "import String2number"
   ]
  },
  {
   "cell_type": "markdown",
   "id": "b45d8851",
   "metadata": {},
   "source": [
    "Now, we upload the `String2number.py` in this jupyter notebook and we can use **str2num(s)** function and **num2str(m)** in our project."
   ]
  },
  {
   "cell_type": "markdown",
   "id": "0af2c21b",
   "metadata": {},
   "source": [
    "## Part 1: Caesar Cipher\n",
    "The first method I would like to introduce is Caesar cipher. Caesar shift cipher is one of the simplest and most widely known encryption techniques. Caesar cipher is a type of substitution cipher in which each letter in the plaintext is replaced by a letter some fixed number of positions down the alphabet. "
   ]
  },
  {
   "cell_type": "markdown",
   "id": "f1cc3d45",
   "metadata": {},
   "source": [
    "In order to encrypt with Caesar cipher, I will write a function `encrypt_caesar(s, key)` \n",
    "In this function, input will be:\n",
    "- `s`| a string\n",
    "- `key`| a key, which is a string \n",
    "\n",
    "The function `encrypt_caesar(s, key)` will return the **key** Caesar shift of the string **s** written as upper case letters.\n",
    "\n",
    "However, there are several cases that we can not use Caesar cipher. We will return message 'Invalid input', if the following situations happen: \n",
    "- If **s** is not a string\n",
    "- If **s** contains any special characters\n",
    "- If **key** is not a single letter\n"
   ]
  },
  {
   "cell_type": "code",
   "execution_count": 55,
   "id": "1b5aaba2",
   "metadata": {},
   "outputs": [],
   "source": [
    "def encrypt_caesar(s, key):\n",
    "    alphabet1 = [\"A\", \"B\", \"C\", \"D\", \"E\", \"F\", \"G\", \"H\", \"I\", \"J\", \"K\", \"L\", \"M\"]\n",
    "    alphabet2 = [\"N\", \"O\", \"P\", \"Q\", \"R\", \"S\", \"T\", \"U\", \"V\", \"W\", \"X\", \"Y\", \"Z\"]\n",
    "    alphabet = alphabet1 + alphabet2\n",
    "    l = len(key)\n",
    "    s_new = String2number.remove_punctuation(s)\n",
    "    \n",
    "    if type(s) != str:\n",
    "        return 'Invalid input'\n",
    "    \n",
    "    if type(key) != str:\n",
    "        return 'Invalid input'\n",
    "    \n",
    "    if l != 1:\n",
    "        return 'Invalid input'\n",
    "    \n",
    "    if s_new == 'Invalid input':\n",
    "        return 'Invalid input'\n",
    "    \n",
    "    output = ''  \n",
    "    for i in s_new:\n",
    "        if i == ' ':\n",
    "            output += i\n",
    "            continue\n",
    "        shift = alphabet.index(key)\n",
    "        ic = (alphabet.index(i) + shift) % len(alphabet)\n",
    "        output += alphabet[ic]\n",
    "    return output\n",
    "        "
   ]
  },
  {
   "cell_type": "markdown",
   "id": "f5539a02",
   "metadata": {},
   "source": [
    "Now we should consider the decryption of Caesar cipher. In order to decrypt with Caesar cipher efficiently, I will write a function `decrypt_caesar(s, key)`. In this function, there will be two input:\n",
    "- `s`| a string\n",
    "- `key`| a key\n",
    "\n",
    "Then the function will return the string stripped of spaces and punctuation, and converts all letters to the upper case. Furthermore, the function should return 'Invalid input', if the following situations happen:\n",
    "- If **s** is not a string\n",
    "- If **s** contains anything other than letter, spaces, and punctuation\n",
    "- If **key** is not a single letter string\n",
    "\n"
   ]
  },
  {
   "cell_type": "code",
   "execution_count": 56,
   "id": "c4704ef3",
   "metadata": {},
   "outputs": [],
   "source": [
    "def decrypt_caesar(s, key):\n",
    "    alphabet1 = [\"A\", \"B\", \"C\", \"D\", \"E\", \"F\", \"G\", \"H\", \"I\", \"J\", \"K\", \"L\", \"M\"]\n",
    "    alphabet2 = [\"N\", \"O\", \"P\", \"Q\", \"R\", \"S\", \"T\", \"U\", \"V\", \"W\", \"X\", \"Y\", \"Z\"]\n",
    "    alphabet = alphabet1 + alphabet2\n",
    "    l = len(key)\n",
    "    s_new = String2number.remove_punctuation(s)\n",
    "    \n",
    "    if type(s) != str:\n",
    "        return 'Invalid input'\n",
    "    \n",
    "    if type(key) != str:\n",
    "        return 'Invalid input'\n",
    "    \n",
    "    if l != 1:\n",
    "        return 'Invalid input'\n",
    "    \n",
    "    if s_new == 'Invalid input':\n",
    "        return 'Invalid input'\n",
    "    \n",
    "    output = ''\n",
    "    shift = alphabet.index(key)\n",
    "    for i in s_new:\n",
    "        if i == ' ':\n",
    "            continue\n",
    "            \n",
    "        si = alphabet.index(i) - shift\n",
    "        \n",
    "        if si < 0:\n",
    "            si = si + len(alphabet)\n",
    "        output += alphabet[si]\n",
    "        \n",
    "    return output\n",
    "        "
   ]
  },
  {
   "cell_type": "markdown",
   "id": "a2facdff",
   "metadata": {},
   "source": [
    "## Part 2: Vigenere Cipher\n",
    "The second method I would like to introduce is Vigenere cipher. Vigenere cipher is a basic type of polyalphabetic replace, a series of Caesar cipher based on the letters of a keyword."
   ]
  },
  {
   "cell_type": "markdown",
   "id": "5cc295b9",
   "metadata": {},
   "source": [
    "In order to encrypt and decrypt with Vigenere cipher, we need to generate key first. \n",
    "I will define a function `generate_key(s, key)` in order to generate the key."
   ]
  },
  {
   "cell_type": "markdown",
   "id": "ba93974b",
   "metadata": {},
   "source": [
    "Input of the function `generate_key(s, key)` is the following:\n",
    "- `s`| a string\n",
    "- `key`| a key, which is a string\n",
    "\n",
    "The function `generate_key(s, key)` will return a key which appended to itself until the length of the message is equal to the length of the key"
   ]
  },
  {
   "cell_type": "code",
   "execution_count": 57,
   "id": "3d1590d9",
   "metadata": {},
   "outputs": [],
   "source": [
    "def generate_key(s, key):\n",
    "    key = list(key)\n",
    "    if len(s) == len(key):\n",
    "        return key\n",
    "    \n",
    "    else:\n",
    "        for i in range(len(s) - len(key)):\n",
    "            key.append(key[i % len(key)])\n",
    "            \n",
    "    return (\"\".join(key))"
   ]
  },
  {
   "cell_type": "markdown",
   "id": "acb2d634",
   "metadata": {},
   "source": [
    "Now, we can use our generate key to encrypt with Vigenere cipher.\n",
    "\n",
    "In order to encrypt with Vigenere cipher, I will define a function `encrypt_vigenere(s, key)` as input two string **s** and **key**. The function `encrypt_vigenere(s, key)` will return to an output of string which each element of **s** shifts by the corresponding key. \n",
    "\n",
    "However, we should return 'Invalid input' if the following situations happen:\n",
    "- If **s** is not a string\n",
    "- If **s** contains digits or speical characters\n",
    "- If **key** is not a string\n",
    "- If **key** is an empty string\n",
    "- If **key** contain digits or special characters\n"
   ]
  },
  {
   "cell_type": "code",
   "execution_count": 58,
   "id": "d2e830b9",
   "metadata": {},
   "outputs": [],
   "source": [
    "def encrypt_vigenere(s, key):\n",
    "    alphabet1 = [\"A\", \"B\", \"C\", \"D\", \"E\", \"F\", \"G\", \"H\", \"I\", \"J\", \"K\", \"L\", \"M\"]\n",
    "    alphabet2 = [\"N\", \"O\", \"P\", \"Q\", \"R\", \"S\", \"T\", \"U\", \"V\", \"W\", \"X\", \"Y\", \"Z\"]\n",
    "    alphabet = alphabet1 + alphabet2\n",
    "    key = generate_key(s, key)\n",
    "    s1 = String2number.remove_punctuation(s)\n",
    "    k1 = String2number.remove_punctuation(key)\n",
    "    l = len(key)\n",
    "    out = []\n",
    "    \n",
    "    if type(s) != str:\n",
    "        return 'Invalid input'\n",
    "    \n",
    "    if type(key) != str:\n",
    "        return 'Invalid input'\n",
    "    \n",
    "    if s1 == 'Invalid input':\n",
    "        return 'Invalid input'\n",
    "    \n",
    "    if k1 == 'Invalid input':\n",
    "        return 'Invalid input'\n",
    "    \n",
    "    if l == 0:\n",
    "        return 'Invalid input'\n",
    "    \n",
    "    for i in range(len(s1)):\n",
    "        ic = (ord(s1[i]) + ord(k1[i])) % 26\n",
    "        ic += ord(\"A\")\n",
    "        out.append(chr(ic))\n",
    "        \n",
    "    return (\"\".join(out))"
   ]
  },
  {
   "cell_type": "markdown",
   "id": "df7035c2",
   "metadata": {},
   "source": [
    "Now, we can do decrypt with Vigenere cipher. I will define a function `decrypt_vigenere(s, key)` which have two string **s** and **k** as input. We will firstly remove all the spaces and punctuation from our input string.\n",
    "\n",
    "The output will be a string of stripped string **s** with our input key **key**. And our output string should only contain captial letters.\n",
    "\n",
    "However, we should return 'Invalid input' if the following situations happen:\n",
    "- If s is not a string\n",
    "- If s contains digits or speical characters\n",
    "- If key is not a string\n",
    "- If key is an empty string\n",
    "- If key contain digits or special characters"
   ]
  },
  {
   "cell_type": "code",
   "execution_count": 59,
   "id": "6f44d4fc",
   "metadata": {},
   "outputs": [],
   "source": [
    "def decrypt_vigenere(s, key):\n",
    "    key = generate_key(s, key)\n",
    "    s1 = String2number.remove_punctuation(s)\n",
    "    k1 = String2number.remove_punctuation(key)\n",
    "    l = len(key)\n",
    "    output = []\n",
    "    \n",
    "    if type(s) != str:\n",
    "        return 'Invalid input'\n",
    "    \n",
    "    if type(key) != str:\n",
    "        return 'Invalid input'\n",
    "    \n",
    "    if s1 == 'Invalid input':\n",
    "        return 'Invalid input'\n",
    "    \n",
    "    if k1 == 'Invalid input':\n",
    "        return 'Invalid input'\n",
    "    \n",
    "    if l == 0:\n",
    "        return 'Invalid input'\n",
    "    \n",
    "    for i in range(len(s1)):\n",
    "        si = (ord(s1[i]) - ord(k1[i]) + 26) % 26\n",
    "        si += ord(\"A\")\n",
    "        output.append(chr(si))\n",
    "        \n",
    "    return (\"\".join(output))\n",
    "    "
   ]
  },
  {
   "cell_type": "markdown",
   "id": "163e6a2a",
   "metadata": {},
   "source": [
    "## Part 3: Diffie-Hellman key exchange & Cipher\n",
    "In this part, I would like to introduce the process to produce a public key for Diffie-Hellman which is a mathematical method of securely exchanging cryptographic keys over a public channel. In Diffie-Hellman, if Alice and Bob want to send some secret message, he or she can encrypt the message with their common key which generated by their public keys and private key. Alice and Bob can send each other a message which can not be decrypted without the encryption key which generate by Alice's public key, Bob's public key, and private key. If she or he wants to decrypt the secret message, he or she can use their common key to decrypt.\n",
    "\n",
    "Now I would like to introduce a class called `DH_cipher`with instance attributes `Alice_pub_key`, `Bob_pub_key`, `private_key`, and `common_key`. Our class `DH_cipher` will have methods:\n",
    "- `get_partial_key()`\n",
    "- `get_common_key()`\n",
    "- `encrypt()`\n",
    "- `decrypt()`\n",
    "\n",
    "Furthermore, our instance attributes will be integers.\n",
    "\n",
    "**Method: `get_partial_key`**\n",
    "\n",
    "Procedure(s):\n",
    "- Frist, generate the part of key by taking Alice public key to the power of private key.\n",
    "- Then, generate the partial key by taking part of key modulos Bob public key.\n",
    "- The function will return to a variable of **part_key** which is an integer.\n",
    "\n",
    "\n",
    "**Method: `get_common-key`**\n",
    "\n",
    "Input:\n",
    "- `part_key_r`: int\n",
    "\n",
    "Procedure(s):\n",
    "- First, generate the first step by taking our input `part_key_r` with the power of private key.\n",
    "- Then, we generate the common key by taking our first step result modulos Bob public key.\n",
    "- The function will return to **common_key** which is an integer.\n",
    "\n",
    "\n",
    "**Method: `encrypt`**\n",
    "\n",
    "Input:\n",
    "- `message`: a string\n",
    "\n",
    "Procedure(s):\n",
    "- First, we take each element from our input **message** and change each element to ASCII number.\n",
    "- Then, we add the ASCII number of each element with our **common_key**\n",
    "- Last, we change the sum of the ASCII number of each element and **common_key** to text, and return the text as a string as output and print it out.\n",
    "\n",
    "\n",
    "**Method: `decrypt`**\n",
    "\n",
    "Input:\n",
    "- `encrypt_message`: a string\n",
    "\n",
    "Procedure(s):\n",
    "- First, we take each element from our input **encrypt_message** and change each element to ASCII number.\n",
    "- Then, we substract our ASCII number of each element by the **common_key**\n",
    "- Last, we change the result of substraction which is ASCII number to text, and return the text as a string as output and print it out.\n",
    "\n"
   ]
  },
  {
   "cell_type": "code",
   "execution_count": 60,
   "id": "0677f212",
   "metadata": {},
   "outputs": [],
   "source": [
    "class DH_cipher(object):\n",
    "    def __init__(self, Alice_pub_key, Bob_pub_key, private_key):\n",
    "        self.Alice_pub_key = Alice_pub_key\n",
    "        self.Bob_pub_key = Bob_pub_key\n",
    "        self.private_key = private_key\n",
    "        self.common_key = None\n",
    "        \n",
    "    def get_partial_key(self):\n",
    "        part_key = self.Alice_pub_key ** self.private_key\n",
    "        part_key = part_key % self.Bob_pub_key\n",
    "        return part_key\n",
    "    \n",
    "    def get_common_key(self, part_key_r):\n",
    "        common_key = part_key_r ** self.private_key\n",
    "        common_key = common_key % self.Bob_pub_key\n",
    "        self.common_key = common_key\n",
    "        return common_key\n",
    "    \n",
    "    def encrypt(self, message):\n",
    "        encrypt_message = \"\"\n",
    "        key = self.common_key\n",
    "        for i in message:\n",
    "            encrypt_message += chr(ord(i) + key)\n",
    "        return encrypt_message\n",
    "    \n",
    "    def decrypt(self, encrypt_message):\n",
    "        decrypt_message = \"\"\n",
    "        key = self.common_key\n",
    "        for j in encrypt_message:\n",
    "            decrypt_message += chr(ord(j) - key)\n",
    "        return decrypt_message\n",
    "    "
   ]
  },
  {
   "cell_type": "markdown",
   "id": "3f13ef38",
   "metadata": {},
   "source": [
    "## Part 4: Dynamic Programming\n",
    "Dynamic programming is really useful when we want to call other functions or itself inside a function. With dynamic programming, we can efficiently call functions inside a function. This is something we did not learn in our course this quarter. I would like to try this by doing some dynamic programming for Fibonacci numbers. For Fibonacci numbers, the first two term will equal to 1, and the third term will equal to the sum of the previous two term. It will continue for N terms.\n",
    "\n",
    "In these functions, I will try to write the function with the method of dynamic programming.\n"
   ]
  },
  {
   "cell_type": "markdown",
   "id": "434c6450",
   "metadata": {},
   "source": [
    "I would like to write a function `fib(N)` that returns to the Nth Fibonacci number. The input of the function **N** is a positive integer."
   ]
  },
  {
   "cell_type": "code",
   "execution_count": 61,
   "id": "14cb4132",
   "metadata": {},
   "outputs": [],
   "source": [
    "def fib(N):\n",
    "    f = [0, 1]\n",
    "    for i in range(2, N+1):\n",
    "        f.append(f[i - 1] + f[i - 2])\n",
    "    return f[N]"
   ]
  },
  {
   "cell_type": "markdown",
   "id": "175da2be",
   "metadata": {},
   "source": [
    "Now, I would like to write two functions `all_fib(N)` which input a positive integer **N**, and return to a list which contains all the first N terms of Fibonacci numbers. In these functions, I will try to write the function with the method of dynamic programming."
   ]
  },
  {
   "cell_type": "code",
   "execution_count": 62,
   "id": "d9281d08",
   "metadata": {},
   "outputs": [],
   "source": [
    "def all_fib(N):\n",
    "    return [fib(i) for i in range(1, N + 1)]"
   ]
  },
  {
   "cell_type": "markdown",
   "id": "7cd2b741",
   "metadata": {},
   "source": [
    "In this method, the function is efficient and it will only take seconds to do the calculation even for the large N."
   ]
  },
  {
   "cell_type": "markdown",
   "id": "0a80df22",
   "metadata": {},
   "source": [
    "The dynamic programming is chanllenging to me, I spent about a whole night trying to get `all_fib(N)` function run within few seconds with really large number of N, for instance N = 10000. If I used the recursion with recursive call each time, it will take a long time (running all the time) to return a list that contains every term of Fibonacci numbers. At the beginning, I did not know that this method is called dynamic programming. After I tried for several hours, I start to learn the idea of the dynamic programming and I realize how helpful and useful the dynamic programming is."
   ]
  },
  {
   "cell_type": "code",
   "execution_count": null,
   "id": "e0f725bf",
   "metadata": {},
   "outputs": [],
   "source": []
  }
 ],
 "metadata": {
  "kernelspec": {
   "display_name": "Python 3 (clean)",
   "language": "python",
   "name": "python3_clean"
  },
  "language_info": {
   "codemirror_mode": {
    "name": "ipython",
    "version": 3
   },
   "file_extension": ".py",
   "mimetype": "text/x-python",
   "name": "python",
   "nbconvert_exporter": "python",
   "pygments_lexer": "ipython3",
   "version": "3.9.5"
  }
 },
 "nbformat": 4,
 "nbformat_minor": 5
}
